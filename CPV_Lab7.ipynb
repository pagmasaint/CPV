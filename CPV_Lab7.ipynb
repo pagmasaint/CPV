{
 "cells": [
  {
   "cell_type": "code",
   "execution_count": 16,
   "metadata": {},
   "outputs": [],
   "source": [
    "# Class name: AI1811\n",
    "# Student code: HE181685\n",
    "# Student name: Nguyễn Thành Trung\n",
    "# Subject: CPV301-LAB7"
   ]
  },
  {
   "cell_type": "markdown",
   "metadata": {},
   "source": [
    "Em có làm phần mouth-detect nữa nma em bị xung đột không tìm thấy file mouth nên em có thêm # vào phần đó ạ"
   ]
  },
  {
   "cell_type": "code",
   "execution_count": null,
   "metadata": {},
   "outputs": [],
   "source": [
    "import cv2"
   ]
  },
  {
   "cell_type": "code",
   "execution_count": 15,
   "metadata": {},
   "outputs": [
    {
     "name": "stdout",
     "output_type": "stream",
     "text": [
      "Số lượng khuôn mặt được phát hiện: 10\n",
      "Số lượng mắt được phát hiện: 22\n"
     ]
    }
   ],
   "source": [
    "# Nhập đầu vào ảnh\n",
    "image_path = input(\"Nhập đường dẫn tới ảnh: \")\n",
    "\n",
    "# Tải ảnh đầu vào\n",
    "image = cv2.imread(image_path)\n",
    "\n",
    "# Kiểm tra ảnh \n",
    "if image is None:\n",
    "    print(\"Lỗi: Không thể tải ảnh. Vui lòng kiểm tra đường dẫn và thử lại.\")\n",
    "else:\n",
    "    # Chuyển ảnh sang ảnh xám\n",
    "    gray_image = cv2.cvtColor(image, cv2.COLOR_BGR2GRAY)\n",
    "    \n",
    "    # Tải các bộ phân loại Haar Cascade \n",
    "    face_cascade_path = cv2.data.haarcascades + 'haarcascade_frontalface_default.xml'\n",
    "    eye_cascade_path = cv2.data.haarcascades + 'haarcascade_eye.xml'\n",
    "    #mouth_cascade_path = cv2.data.haarcascades + 'haarcascade_mcs_mouth.xml'\n",
    "    \n",
    "    face_cascade = cv2.CascadeClassifier(face_cascade_path)\n",
    "    eye_cascade = cv2.CascadeClassifier(eye_cascade_path)\n",
    "    #mouth_cascade = cv2.CascadeClassifier(mouth_cascade_path)\n",
    "    \n",
    "    # Kiểm tra xem các file cascade \n",
    "    if face_cascade.empty():\n",
    "        print(\"Lỗi: Không thể tải bộ phân loại cascade cho khuôn mặt.\")\n",
    "    if eye_cascade.empty():\n",
    "        print(\"Lỗi: Không thể tải bộ phân loại cascade cho mắt.\")\n",
    "    #if mouth_cascade.empty():\n",
    "        #print(\"Lỗi: Không thể tải bộ phân loại cascade cho miệng.\")\n",
    "    else:\n",
    "        # Phát hiện khuôn mặt\n",
    "        faces = face_cascade.detectMultiScale(gray_image, scaleFactor=1.1, minNeighbors=5, minSize=(30, 30))\n",
    "\n",
    "        # Khởi tạo biến đếm số khuôn mặt\n",
    "        face_count = 0\n",
    "        eyes_count = 0\n",
    "        #mouth_count = 0\n",
    "        # Phát hiện mắt và miệng \n",
    "        for (x, y, w, h) in faces:\n",
    "            face_count += 1\n",
    "            cv2.rectangle(image, (x, y), (x + w, y + h), (255, 0, 0), 2)\n",
    "            \n",
    "            # Vùng quan tâm cho mắt và miệng \n",
    "            roi_gray = gray_image[y:y + h, x:x + w]\n",
    "            roi_color = image[y:y + h, x:x + w]\n",
    "            \n",
    "            # Phát hiện mắt\n",
    "            eyes = eye_cascade.detectMultiScale(roi_gray)\n",
    "            for (ex, ey, ew, eh) in eyes:\n",
    "                eyes_count+=1 \n",
    "                cv2.rectangle(roi_color, (ex, ey), (ex + ew, ey + eh), (0, 255, 0), 2)\n",
    "            \n",
    "            # Phát hiện miệng\n",
    "            #mouths = mouth_cascade.detectMultiScale(roi_gray, scaleFactor=1.1, minNeighbors=35, minSize=(30, 30))\n",
    "            #for (mx, my, mw, mh) in mouths:\n",
    "                #mouth_count += 1\n",
    "                #y = int(y - 0.15 * h)  # Điều chỉnh vị trí miệng\n",
    "                #cv2.rectangle(roi_color, (mx, my), (mx + mw, my + mh), (0, 0, 255), 2)\n",
    "\n",
    "        # Hiển thị số lượng khuôn mặt được phát hiện\n",
    "        print(f\"Số lượng khuôn mặt được phát hiện: {face_count}\")\n",
    "        print(f\"Số lượng mắt được phát hiện: {eyes_count}\")\n",
    "        #print(f\"Số lượng miệng được phát hiện: {mouth_count}\")\n",
    "\n",
    "        # Hiển thị ảnh kết quả với các đặc điểm được phát hiện\n",
    "        cv2.imshow('Detected Faces and Features', image)\n",
    "        cv2.waitKey(0)\n",
    "        cv2.destroyAllWindows()\n"
   ]
  },
  {
   "cell_type": "code",
   "execution_count": null,
   "metadata": {},
   "outputs": [],
   "source": []
  }
 ],
 "metadata": {
  "kernelspec": {
   "display_name": "Python 3",
   "language": "python",
   "name": "python3"
  },
  "language_info": {
   "codemirror_mode": {
    "name": "ipython",
    "version": 3
   },
   "file_extension": ".py",
   "mimetype": "text/x-python",
   "name": "python",
   "nbconvert_exporter": "python",
   "pygments_lexer": "ipython3",
   "version": "3.12.1"
  }
 },
 "nbformat": 4,
 "nbformat_minor": 2
}
