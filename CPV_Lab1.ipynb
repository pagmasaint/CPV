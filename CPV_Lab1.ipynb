{
 "cells": [
  {
   "cell_type": "code",
   "execution_count": 3,
   "id": "dadcf2e3-93db-49e0-929c-19df5ff6c3e0",
   "metadata": {},
   "outputs": [],
   "source": [
    "# Class name: AI181685\n",
    "# Student code: HE181685\n",
    "# Student name: Nguyễn Thành Trung\n",
    "# Subject: CPV301-lAB1"
   ]
  },
  {
   "cell_type": "code",
   "execution_count": 4,
   "id": "af66cc86-902a-4205-a2c7-41e3c8f2d999",
   "metadata": {},
   "outputs": [
    {
     "name": "stdout",
     "output_type": "stream",
     "text": [
      "Requirement already satisfied: opencv-python in c:\\users\\pagmas.saint\\anaconda3\\lib\\site-packages (4.10.0.84)\n",
      "Requirement already satisfied: numpy>=1.21.2 in c:\\users\\pagmas.saint\\anaconda3\\lib\\site-packages (from opencv-python) (1.26.4)\n"
     ]
    }
   ],
   "source": [
    "!pip install opencv-python\n",
    "import cv2\n",
    "import numpy as np\n",
    "import math\n",
    "from tkinter import *"
   ]
  },
  {
   "cell_type": "code",
   "execution_count": 5,
   "id": "ee8db8d2-04bd-4094-a040-4efa0a47342d",
   "metadata": {},
   "outputs": [],
   "source": [
    "drawing = False\n",
    "p1 = (0, 0)\n",
    "p2 = (0, 0)\n",
    "rectangles = []\n",
    "def create_background():\n",
    "    return np.ones((600, 800, 3), dtype=np.uint8) * 255"
   ]
  },
  {
   "cell_type": "code",
   "execution_count": 6,
   "id": "d9edc0fc-0aa9-42e0-a3e4-72ac08ce03ac",
   "metadata": {},
   "outputs": [],
   "source": [
    "def draw_rectangle(event, x, y, flags, param):\n",
    "    global p1, p2, drawing, rectangles, img\n",
    "    if event == cv2.EVENT_LBUTTONDOWN:\n",
    "        drawing = True\n",
    "        p1 = (x, y)\n",
    "    elif event == cv2.EVENT_MOUSEMOVE:\n",
    "        if drawing:\n",
    "            img = create_background()\n",
    "            p2 = (x, y)\n",
    "            cv2.rectangle(img, p1, p2, (0, 0, 255), 2)\n",
    "    elif event == cv2.EVENT_LBUTTONUP:\n",
    "        drawing = False\n",
    "        p2 = (x, y)\n",
    "        cv2.rectangle(img, p1, p2, (0, 0, 255), 2)  \n",
    "        rectangles.append((p1, p2))\n",
    "current_angle = 0\n",
    "current_tx = 0  \n",
    "current_ty = 0  \n",
    "current_sx = 1  \n",
    "current_sy = 1  "
   ]
  },
  {
   "cell_type": "code",
   "execution_count": 7,
   "id": "37d656e3-5b86-41dd-bab4-d02b25de9618",
   "metadata": {},
   "outputs": [],
   "source": [
    "def translate():\n",
    "    global img, current_tx, current_ty\n",
    "    if rectangles:\n",
    "        tx = int(translation_x_entry.get())\n",
    "        ty = int(translation_y_entry.get())\n",
    "        current_tx += tx \n",
    "        current_ty -= ty\n",
    "        new_rect = apply_translation(rectangles[-1], current_tx, current_ty)  \n",
    "        img = create_background()\n",
    "        cv2.rectangle(img, new_rect[0], new_rect[1], (0, 255, 0), 2)"
   ]
  },
  {
   "cell_type": "code",
   "execution_count": 8,
   "id": "ddde7957-31ab-49fa-b43e-d078b06380a8",
   "metadata": {},
   "outputs": [],
   "source": [
    "def apply_translation(rect, tx, ty):\n",
    "    p1, p2 = rect\n",
    "    p1_new = (p1[0] + tx, p1[1] + ty)\n",
    "    p2_new = (p2[0] + tx, p2[1] + ty)\n",
    "    return p1_new, p2_new"
   ]
  },
  {
   "cell_type": "code",
   "execution_count": 9,
   "id": "11ecb9e1-ea76-420a-ab59-6b6a585dff01",
   "metadata": {},
   "outputs": [],
   "source": [
    "def rotate():\n",
    "    global img, current_angle\n",
    "    if rectangles:\n",
    "        angle = float(rotation_entry.get())\n",
    "        current_angle += angle  \n",
    "        rotated_corners = apply_rotation(rectangles[-1], current_angle)  \n",
    "        img = create_background()\n",
    "        pts = np.array(rotated_corners, np.int32)\n",
    "        pts = pts.reshape((-1, 1, 2))\n",
    "        cv2.polylines(img, [pts], isClosed=True, color=(255, 0, 0), thickness=2)\n"
   ]
  },
  {
   "cell_type": "code",
   "execution_count": 10,
   "id": "bd4594b3-5107-4944-b2fa-770f11d25076",
   "metadata": {},
   "outputs": [],
   "source": [
    "def apply_rotation(rect, angle):\n",
    "    p1, p2 = rect\n",
    "    center = ((p1[0] + p2[0]) // 2, (p1[1] + p2[1]) // 2) \n",
    "    angle_rad = math.radians(angle)\n",
    "    corners = [\n",
    "        p1,               \n",
    "        (p1[0], p2[1]),   \n",
    "        p2,                \n",
    "        (p2[0], p1[1]) ]   \n",
    "    def rotate_point(point):\n",
    "        x, y = point\n",
    "        x_new = center[0] + int((x - center[0]) * math.cos(angle_rad) - (y - center[1]) * math.sin(angle_rad))\n",
    "        y_new = center[1] + int((x - center[0]) * math.sin(angle_rad) + (y - center[1]) * math.cos(angle_rad))\n",
    "        return x_new, y_new\n",
    "    rotated_corners = [rotate_point(corner) for corner in corners]\n",
    "    return rotated_corners"
   ]
  },
  {
   "cell_type": "code",
   "execution_count": 11,
   "id": "237ca015-3fa7-471f-984a-ee15aa8b8e55",
   "metadata": {},
   "outputs": [],
   "source": [
    "def scale():\n",
    "    global img, current_sx, current_sy\n",
    "    if rectangles:\n",
    "        sx = float(scaling_x_entry.get())\n",
    "        sy = float(scaling_y_entry.get())\n",
    "        current_sx *= sx  \n",
    "        current_sy *= sy\n",
    "        new_rect = apply_scaling(rectangles[-1], current_sx, current_sy) \n",
    "        img = create_background()\n",
    "        cv2.rectangle(img, new_rect[0], new_rect[1], (0, 255, 255), 2)"
   ]
  },
  {
   "cell_type": "code",
   "execution_count": 12,
   "id": "f4aa6c26-6d3b-4597-ac2a-ccaf3f326e64",
   "metadata": {},
   "outputs": [],
   "source": [
    "def apply_scaling(rect, sx, sy):\n",
    "    p1, p2 = rect\n",
    "    center = ((p1[0] + p2[0]) // 2, (p1[1] + p2[1]) // 2)\n",
    "    def scale_point(point):\n",
    "        x, y = point\n",
    "        x_new = center[0] + int((x - center[0]) * sx)\n",
    "        y_new = center[1] + int((y - center[1]) * sy)\n",
    "        return x_new, y_new\n",
    "    return scale_point(p1), scale_point(p2)"
   ]
  },
  {
   "cell_type": "code",
   "execution_count": 13,
   "id": "58fce438-63a4-4414-a53b-eeac991ee9f9",
   "metadata": {},
   "outputs": [],
   "source": [
    "def create_gui():\n",
    "    root = Tk()\n",
    "    root.title(\"Transformations Input\")\n",
    "\n",
    "    translation_label = Label(root, text=\"TRANSLATION\")\n",
    "    translation_label.pack()\n",
    "\n",
    "    translation_x_label = Label(root, text=\"Translation X:\")\n",
    "    translation_x_label.pack()\n",
    "    global translation_x_entry\n",
    "    translation_x_entry = Entry(root)\n",
    "    translation_x_entry.pack()\n",
    "\n",
    "    translation_y_label = Label(root, text=\"Translation Y:\")\n",
    "    translation_y_label.pack()\n",
    "    global translation_y_entry\n",
    "    translation_y_entry = Entry(root)\n",
    "    translation_y_entry.pack()\n",
    "\n",
    "    translation_button = Button(root, text=\"Apply\", command=translate)\n",
    "    translation_button.pack()\n",
    "\n",
    "    rotation_label = Label(root, text=\"ROTATION\")\n",
    "    rotation_label.pack()\n",
    "\n",
    "    rotation_angle_label = Label(root, text=\"Rotation Angle (degrees):\")\n",
    "    rotation_angle_label.pack()\n",
    "    global rotation_entry\n",
    "    rotation_entry = Entry(root)\n",
    "    rotation_entry.pack()\n",
    "\n",
    "    rotation_button = Button(root, text=\"Apply\", command=rotate)\n",
    "    rotation_button.pack()\n",
    "\n",
    "    scaling_label = Label(root, text=\"SCALING\")\n",
    "    scaling_label.pack()\n",
    "\n",
    "    scaling_x_label = Label(root, text=\"Scaling Factor X:\")\n",
    "    scaling_x_label.pack()\n",
    "    global scaling_x_entry\n",
    "    scaling_x_entry = Entry(root)\n",
    "    scaling_x_entry.pack()\n",
    "\n",
    "    scaling_y_label = Label(root, text=\"Scaling Factor Y:\")\n",
    "    scaling_y_label.pack()\n",
    "    global scaling_y_entry\n",
    "    scaling_y_entry = Entry(root)\n",
    "    scaling_y_entry.pack()\n",
    "\n",
    "    scaling_button = Button(root, text=\"Apply\", command=scale)\n",
    "    scaling_button.pack()\n",
    "    root.mainloop()\n",
    "\n",
    "img = create_background()\n",
    "cv2.namedWindow(\"Rectangle Drawing\")\n",
    "cv2.setMouseCallback(\"Rectangle Drawing\", draw_rectangle)"
   ]
  },
  {
   "cell_type": "code",
   "execution_count": 14,
   "id": "1860cacb-1817-4b5a-acf7-bf6a68a536ed",
   "metadata": {
    "scrolled": true
   },
   "outputs": [],
   "source": [
    "import threading\n",
    "threading.Thread(target=create_gui).start()\n",
    "while True:\n",
    "    cv2.imshow(\"Rectangle Drawing\", img)\n",
    "    key = cv2.waitKey(1) & 0xFF\n",
    "    if key == 27: \n",
    "        break"
   ]
  },
  {
   "cell_type": "code",
   "execution_count": 15,
   "id": "c63a210f-d6f3-464e-9550-023794ca7d7a",
   "metadata": {},
   "outputs": [],
   "source": [
    "cv2.destroyAllWindows()"
   ]
  },
  {
   "cell_type": "code",
   "execution_count": null,
   "id": "47441071-639a-4bee-b58d-5fa8d56e8961",
   "metadata": {},
   "outputs": [],
   "source": []
  }
 ],
 "metadata": {
  "kernelspec": {
   "display_name": "Python 3 (ipykernel)",
   "language": "python",
   "name": "python3"
  },
  "language_info": {
   "codemirror_mode": {
    "name": "ipython",
    "version": 3
   },
   "file_extension": ".py",
   "mimetype": "text/x-python",
   "name": "python",
   "nbconvert_exporter": "python",
   "pygments_lexer": "ipython3",
   "version": "3.11.7"
  }
 },
 "nbformat": 4,
 "nbformat_minor": 5
}
